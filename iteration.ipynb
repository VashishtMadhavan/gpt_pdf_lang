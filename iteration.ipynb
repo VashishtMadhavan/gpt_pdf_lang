{
 "cells": [
  {
   "cell_type": "code",
   "execution_count": 3,
   "id": "1a6dcfcc",
   "metadata": {
    "scrolled": true
   },
   "outputs": [],
   "source": [
    "from vector_store import VectorStoreWrapper\n",
    "from models.retrieval import RetrievalModel\n",
    "from evaluate.open_eval_chain import QAOpenEvalChain\n",
    "\n",
    "from langchain.text_splitter import RecursiveCharacterTextSplitter\n",
    "from langchain import OpenAI"
   ]
  },
  {
   "cell_type": "code",
   "execution_count": null,
   "id": "2c7c2ff5",
   "metadata": {},
   "outputs": [],
   "source": []
  },
  {
   "cell_type": "code",
   "execution_count": 55,
   "id": "b781353e",
   "metadata": {},
   "outputs": [
    {
     "data": {
      "text/plain": [
       "[PosixPath('examples/apple_10q_q3_22.pdf'),\n",
       " PosixPath('examples/apple_10q_q1_23.pdf'),\n",
       " PosixPath('examples/msft_10q_q1_23.pdf'),\n",
       " PosixPath('examples/msft_10q_q3_22.pdf')]"
      ]
     },
     "execution_count": 55,
     "metadata": {},
     "output_type": "execute_result"
    }
   ],
   "source": [
    "from pathlib import Path\n",
    "[x for x in Path(\"examples/\").glob(\"*.pdf\")]"
   ]
  },
  {
   "cell_type": "code",
   "execution_count": 58,
   "id": "f442afa4",
   "metadata": {},
   "outputs": [],
   "source": [
    "from langchain.document_loaders import PyPDFLoader, DirectoryLoader\n",
    "loader = DirectoryLoader(path=\"examples/\", glob=\"*.pdf\", loader_cls=PyPDFLoader)\n",
    "docs = loader.load()"
   ]
  },
  {
   "cell_type": "markdown",
   "id": "18daee9c",
   "metadata": {},
   "source": [
    "### Load the Data/Create an Index"
   ]
  },
  {
   "cell_type": "code",
   "execution_count": 59,
   "id": "1f951a8a",
   "metadata": {
    "scrolled": true
   },
   "outputs": [],
   "source": [
    "dirpath = \"examples/\"\n",
    "loader = PDFLoader(dirpath=dirpath)\n",
    "tdocs = loader.load()"
   ]
  },
  {
   "cell_type": "code",
   "execution_count": null,
   "id": "c3167c70",
   "metadata": {},
   "outputs": [],
   "source": []
  },
  {
   "cell_type": "code",
   "execution_count": 5,
   "id": "b870472e",
   "metadata": {
    "scrolled": true
   },
   "outputs": [],
   "source": [
    "text_splitter = RecursiveCharacterTextSplitter(chunk_size=3000, separators=[\"\\n \\n\",\"\\n\\n\", \"\\n\", \" \", \"\"])\n",
    "split_docs = text_splitter.split_documents(docs)"
   ]
  },
  {
   "cell_type": "code",
   "execution_count": 6,
   "id": "9a355728",
   "metadata": {
    "scrolled": true
   },
   "outputs": [
    {
     "data": {
      "text/plain": [
       "413"
      ]
     },
     "execution_count": 6,
     "metadata": {},
     "output_type": "execute_result"
    }
   ],
   "source": [
    "len(split_docs)"
   ]
  },
  {
   "cell_type": "code",
   "execution_count": 10,
   "id": "4b89b300",
   "metadata": {
    "scrolled": true
   },
   "outputs": [],
   "source": [
    "db = VectorStoreWrapper(load_path=\"multi_company_index\").get_index(split_docs)"
   ]
  },
  {
   "cell_type": "code",
   "execution_count": 11,
   "id": "80cd9f51",
   "metadata": {},
   "outputs": [],
   "source": [
    "#db.save_local(\"multi_company_index\")"
   ]
  },
  {
   "cell_type": "markdown",
   "id": "bad05cbd",
   "metadata": {},
   "source": [
    "### Testing output parsers"
   ]
  },
  {
   "cell_type": "code",
   "execution_count": 12,
   "id": "13e02cab",
   "metadata": {},
   "outputs": [],
   "source": [
    "first_pages = [doc for doc in split_docs if doc.metadata[\"page\"] == 0]"
   ]
  },
  {
   "cell_type": "code",
   "execution_count": 13,
   "id": "44f227f3",
   "metadata": {},
   "outputs": [
    {
     "data": {
      "text/plain": [
       "4"
      ]
     },
     "execution_count": 13,
     "metadata": {},
     "output_type": "execute_result"
    }
   ],
   "source": [
    "len(first_pages)"
   ]
  },
  {
   "cell_type": "code",
   "execution_count": 35,
   "id": "6b04ec77",
   "metadata": {},
   "outputs": [],
   "source": [
    "from langchain.output_parsers import PydanticOutputParser\n",
    "from pydantic import BaseModel, Field\n",
    "\n",
    "class CompanyInfo(BaseModel):\n",
    "    company: str = Field(description=\"the name of the company\")\n",
    "    ticker: str = Field(description=\"the ticker for the company\")\n",
    "    address: str = Field(description=\"the address of the company\")\n",
    "\n",
    "#from models.extractor import ExtractionModel\n",
    "#ext_model = ExtractionModel(find_matches=False)\n",
    "#result = ext_model.run(\"What is the name and ticker of the company?\", first_pages)"
   ]
  },
  {
   "cell_type": "code",
   "execution_count": null,
   "id": "2f716174",
   "metadata": {},
   "outputs": [],
   "source": []
  },
  {
   "cell_type": "code",
   "execution_count": 50,
   "id": "491d8566",
   "metadata": {},
   "outputs": [
    {
     "ename": "TypeError",
     "evalue": "dict() takes exactly 1 positional argument (0 given)",
     "output_type": "error",
     "traceback": [
      "\u001b[0;31m---------------------------------------------------------------------------\u001b[0m",
      "\u001b[0;31mTypeError\u001b[0m                                 Traceback (most recent call last)",
      "\u001b[0;32m<ipython-input-50-5cdac43a2488>\u001b[0m in \u001b[0;36m<module>\u001b[0;34m\u001b[0m\n\u001b[0;32m----> 1\u001b[0;31m \u001b[0mCompanyInfo\u001b[0m\u001b[0;34m.\u001b[0m\u001b[0mdict\u001b[0m\u001b[0;34m(\u001b[0m\u001b[0;34m)\u001b[0m\u001b[0;34m\u001b[0m\u001b[0;34m\u001b[0m\u001b[0m\n\u001b[0m",
      "\u001b[0;32m~/opt/anaconda3/lib/python3.8/site-packages/pydantic/main.cpython-38-darwin.so\u001b[0m in \u001b[0;36mpydantic.main.BaseModel.dict\u001b[0;34m()\u001b[0m\n",
      "\u001b[0;31mTypeError\u001b[0m: dict() takes exactly 1 positional argument (0 given)"
     ]
    }
   ],
   "source": [
    "CompanyInfo.dict()"
   ]
  },
  {
   "cell_type": "code",
   "execution_count": 36,
   "id": "24054fd6",
   "metadata": {},
   "outputs": [],
   "source": [
    "from prompt_templates.qa_templates import PER_DOC_PROMPT\n",
    "template = SEARCH_PROMPT.split(\"\\n\\n\")"
   ]
  },
  {
   "cell_type": "code",
   "execution_count": 39,
   "id": "6a66d532",
   "metadata": {},
   "outputs": [],
   "source": [
    "from langchain.prompts.chat import HumanMessagePromptTemplate, ChatPromptTemplate\n",
    "\n",
    "parser = PydanticOutputParser(pydantic_object=CompanyInfo)\n",
    "prompt = ChatPromptTemplate(\n",
    "    messages=[HumanMessagePromptTemplate.from_template(template[0]+\"\\n{format_instructions}\\n\"+template[1])],\n",
    "    input_variables=[\"context\", \"question\"],\n",
    "    partial_variables={\"format_instructions\": parser.get_format_instructions()}\n",
    ")"
   ]
  },
  {
   "cell_type": "code",
   "execution_count": null,
   "id": "247c6686",
   "metadata": {},
   "outputs": [],
   "source": []
  },
  {
   "cell_type": "code",
   "execution_count": 40,
   "id": "3109a643",
   "metadata": {},
   "outputs": [],
   "source": [
    "from langchain.chains import LLMChain\n",
    "from langchain.chat_models import ChatOpenAI\n",
    "\n",
    "chain = LLMChain(llm=ChatOpenAI(temperature=0), prompt=prompt)"
   ]
  },
  {
   "cell_type": "code",
   "execution_count": 46,
   "id": "b09a4362",
   "metadata": {},
   "outputs": [
    {
     "data": {
      "text/plain": [
       "CompanyInfo(company='Apple Inc.', ticker='AAPL', address='One Apple Park Way\\nCupertino, California 95014')"
      ]
     },
     "execution_count": 46,
     "metadata": {},
     "output_type": "execute_result"
    }
   ],
   "source": [
    "result = chain.run(context=first_pages[0].page_content, question=\"What is the name of the company, ticker of the company, and address of the company?\")\n",
    "parser.parse(result)"
   ]
  },
  {
   "cell_type": "code",
   "execution_count": 51,
   "id": "3e13e168",
   "metadata": {},
   "outputs": [
    {
     "data": {
      "text/plain": [
       "'{\\n    \"company\": \"Apple Inc.\",\\n    \"ticker\": \"AAPL\",\\n    \"address\": \"One Apple Park Way\\\\nCupertino, California 95014\"\\n}'"
      ]
     },
     "execution_count": 51,
     "metadata": {},
     "output_type": "execute_result"
    }
   ],
   "source": [
    "result"
   ]
  },
  {
   "cell_type": "markdown",
   "id": "07fe0cfd",
   "metadata": {},
   "source": [
    "### Retrieval Model"
   ]
  },
  {
   "cell_type": "code",
   "execution_count": 12,
   "id": "d83602c3",
   "metadata": {
    "scrolled": true
   },
   "outputs": [],
   "source": [
    "model = RetrievalModel(retriever=db.as_retriever(search_kwargs={\"k\": 7}), with_sources=True)"
   ]
  },
  {
   "cell_type": "markdown",
   "id": "a72b43c4",
   "metadata": {},
   "source": [
    "### Getting some results"
   ]
  },
  {
   "cell_type": "code",
   "execution_count": 13,
   "id": "69f021b5",
   "metadata": {
    "scrolled": true
   },
   "outputs": [],
   "source": [
    "result = model.run(\"how much did AAPL's iPhone revenue increase from Q2 2022 to Q3 2022?\")"
   ]
  },
  {
   "cell_type": "code",
   "execution_count": 14,
   "id": "5a89fcbb",
   "metadata": {
    "scrolled": true
   },
   "outputs": [
    {
     "name": "stdout",
     "output_type": "stream",
     "text": [
      "Answer: AAPL's iPhone revenue increased from $40,665 million in Q2 2022 to $65,775 million in Q3 2022.\n",
      "====================\n",
      "doc: examples/apple_10q_q3_22.pdf\n",
      "page: 9\n",
      "Note 2 – Revenue\n",
      "Net sales disaggregated  by significant products and services for the three- and nine-month periods ended June 25, 2022 and June 26, 2021 were as follows (in\n",
      "millions):\n",
      "Three Months Ended Nine Months Ended\n",
      "June 25,\n",
      "2022June 26,\n",
      "2021June 25,\n",
      "2022June 26,\n",
      "2021\n",
      "iPhone $ 40,665 $ 39,570 $ 162,863 $ 153,105 \n",
      "Mac  7,382 8,235 28,669 26,012 \n",
      "iPad 7,224 7,368 22,118 23,610 \n",
      "Wearables, Home and Accessories 8,084 8,775 31,591 29,582 \n",
      "Services 19,604 17,486 58,941 50,148 \n",
      "Total net sales $ 82,959 $ 81,434 $ 304,182 $ 282,457 \n",
      "(1)Products net sales include amortization of the deferred value of unspecified software upgrade rights, which are bundled in the sales price of the respective\n",
      "product.\n",
      "(2)Wearables, Home and Accessories net sales include sales of AirPods, Apple TV, Apple Watch, Beats products, HomePod mini and accessories.\n",
      "(3)Services net sales include sales from the Company’s advertising, AppleCare, cloud, digital content, payment and other services. Services net sales also include\n",
      "amortization of the deferred value of services bundled in the sales price of certain products.\n",
      "(4)Includes $3.1 billion of revenue recognized in the three months ended June 25, 2022 that was included in deferred revenue as of March 26, 2022, $3.0 billion of\n",
      "revenue recognized in the three months ended June 26, 2021 that was included in deferred revenue as of March 27, 2021, $6.3 billion of revenue recognized in\n",
      "the nine months ended June 25, 2022 that was included in deferred revenue as of September 25, 2021, and $5.5 billion of revenue recognized in the nine\n",
      "months ended June 26, 2021 that was included in deferred revenue as of September 26, 2020.\n",
      "The Company’ s proportion of net sales by disagg regated revenue source was generally consiste nt for each reportable segment in Note 9, “Segment Information\n",
      "and Geogra phic Data” for the three- and nine-month periods ended June 25, 2022 and June 26, 2021, except in Greater China, where iPhone revenue\n",
      "represented a moderately higher proportion of net sales.\n",
      "As of June 25, 2022 and September 25, 2021, the Company had total deferred revenue of $12.2  billion and $11.9 billion, respectively . As of June 25, 2022, the\n",
      "Company expects 63% of total deferred revenue to be realized in less than a year, 27% within one-to-two years, 8% within two-to-three years and 2% in greater\n",
      "than three years.® (1)\n",
      "®(1)\n",
      "® (1)\n",
      "(1)(2)\n",
      "(3)\n",
      "(4)\n",
      "® ® ® ® ®\n",
      "®\n",
      "Apple Inc. | Q3 2022 Form 10-Q | 7\n",
      "====================\n",
      "doc: examples/apple_10q_q1_23.pdf\n",
      "page: 9\n",
      "Note 2 – Revenue\n",
      "Net sales disaggregated by significant products and services for the three months ended December 31, 2022 and December 25, 2021 were as follows (in\n",
      "millions):\n",
      "Three Months Ended\n",
      "December 31,\n",
      "2022December 25,\n",
      "2021\n",
      "iPhone $ 65,775 $ 71,628 \n",
      "Mac  7,735 10,852 \n",
      "iPad 9,396 7,248 \n",
      "Wearables, Home and Accessories 13,482 14,701 \n",
      "Services 20,766 19,516 \n",
      "Total net sales $ 117,154 $ 123,945 \n",
      "(1)Products net sales include amortization of the deferred value of unspecified software upgrade rights, which are bundled in the sales price of the respective\n",
      "product.\n",
      "(2)Wearables, Home and Accessories net sales include sales of AirPods, Apple TV, Apple Watch, Beats products, HomePod mini and accessories.\n",
      "(3)Services net sales include sales from the Company’s advertising, AppleCare, cloud, digital content, payment and other services. Services net sales also include\n",
      "amortization of the deferred value of services bundled in the sales price of certain products.\n",
      "(4)Includes $3.4 billion of revenue recognized in the three months ended December 31, 2022 that was included in deferred revenue as of September 24, 2022 and\n",
      "$3.0 billion of revenue recognized in the three months ended December 25, 2021 that was included in deferred revenue as of September 25, 2021.\n",
      "The Company’ s proportion of net sales by disagg regated revenue source was generally consiste nt for each reportable segment in Note 9, “Segment Information\n",
      "and Geograp hic Data” for the three months ende d December 31, 2022 and December 25, 2021,  except in Greater China, where iPhone revenue represented a\n",
      "moderately higher proportion of net sales.\n",
      "As of Decem ber 31, 2022 and September 24, 2022, the Company had total deferred revenue of $12.6 billion and $12.4 billion, respectively . As of December 31,\n",
      "2022, the Company expects 63% of total deferre d revenue to be realized in less than a year, 27% within one-to-two years, 8% within two-to-three years and 2%\n",
      "in greater than three years.® (1)\n",
      "®(1)\n",
      "® (1)\n",
      "(1)(2)\n",
      "(3)\n",
      "(4)\n",
      "® ® ® ® ®\n",
      "®\n",
      "Apple Inc. | Q1 2023 Form 10-Q | 7\n",
      "====================\n",
      "doc: examples/apple_10q_q3_22.pdf\n",
      "page: 16\n",
      "Business Seasonality and Product Introductions\n",
      "The Company has historically experienced higher net sales in its first quarter compared to other quarters in its fiscal year due in part to seasonal holiday\n",
      "demand. Additionally , new product and service introductions can significantly impact net sales , cost of sales and operating expenses. The timing of product\n",
      "introductions can also impact the Company’ s net sales to its indirect distribution channels as these channels are filled with new inventory following a product\n",
      "launch, and channel inventory of an older product often declines as the launch of a newer produ ct approaches. Net sales can also be affected when consumers\n",
      "and distributors anticipate a product introduction.\n",
      "Quarterly Highlights\n",
      "Total net sales increased 2% or $1.5 billion during the third quarter of 2022 compared to the same quarter in 2021, driven primarily by higher net sales of\n",
      "Services and iPhone, partially offset by lower net sales of Mac and Wearables, Home and Accessories. The weakness in foreign currencies relative to the U.S.\n",
      "dollar had an unfavorable impact on all Products and Services net sales during the third quarter of 2022.\n",
      "At the end of the third quarter of 2022, the Com pany introduced an all-new MacBook Air and an updated 13-inch  MacBook Pro , both powe red by the new\n",
      "Apple M2 chip. The Company also announced iOS 16, macOS  Ventura, iPadOS  16 and watchOS  9, updates to its operating systems that are expe cted to be\n",
      "available in the fall of 2022.\n",
      "The Company repurchased $21.7 billion of its common stock and paid dividends and dividend equivalents of $3.8 billion during the third quarter of 2022.® ®\n",
      "® ® ®\n",
      "Apple Inc. | Q3 2022 Form 10-Q | 14\n",
      "====================\n",
      "doc: examples/apple_10q_q1_23.pdf\n",
      "page: 19\n",
      "Greater China\n",
      "Greater China net sales decreased during the first quarter of 2023 compared to the same quarter in 2022 due to the weakness of the renminbi relative to the\n",
      "U.S. dollar . The weakness of the renminbi contributed to lower net sales of iPhone, which was partially of fset by higher net sales of iPad.\n",
      "Japan\n",
      "Japan net sales decreased during the first quarter of 2023 compared to the same quarter in 2022 due to the weakness of the yen relative to the U.S. dollar ,\n",
      "which contributed to lower net sales of Services and Mac.\n",
      "Rest of Asia Pacific\n",
      "Rest of Asia Pacific net sales decreased during the first quarter of 2023 compared to the same quarter in 2022 due to the weakness in foreign currencies relative\n",
      "to the U.S. dollar . The weakness in foreign curre ncies contributed to lower net sales of iPhone and Mac, which was partially offset by higher net sales of Services\n",
      "and iPad.\n",
      "Products and Services Performance\n",
      "The following table shows net sales by category for the three months ended December 31, 2022 and December 25, 2021 (dollars in millions):\n",
      "Three Months Ended\n",
      "December 31,\n",
      "2022December 25,\n",
      "2021 Change\n",
      "Net sales by category:\n",
      "iPhone $ 65,775 $ 71,628 (8)%\n",
      "Mac 7,735 10,852 (29)%\n",
      "iPad 9,396 7,248 30 %\n",
      "Wearables, Home and Accessories 13,482 14,701 (8)%\n",
      "Services 20,766 19,516 6 %\n",
      "Total net sales $ 117,154 $ 123,945 (5)%\n",
      "(1)Products net sales include amortization of the deferred value of unspecified software upgrade rights, which are bundled in the sales price of the respective\n",
      "product.\n",
      "(2)Wearables, Home and Accessories net sales include sales of AirPods, Apple TV, Apple Watch, Beats products, HomePod mini and accessories.\n",
      "(3)Services net sales include sales from the Company’s advertising, AppleCare, cloud, digital content, payment and other services. Services net sales also include\n",
      "amortization of the deferred value of services bundled in the sales price of certain products.\n",
      "iPhone\n",
      "iPhone net sales decreased during the first quarter of 2023 compared to the same quarter in 2022 due primarily to lower net sales from the Company’ s new\n",
      "iPhone models launched in the fourth quarter of 2022.\n",
      "Mac\n",
      "Mac net sales decreased during the first quarter of 2023 compared to the same quarter in 2022 due primarily to lower net sales of MacBook Pro .\n",
      "iPad\n",
      "iPad net sales increased during the first quarter of 2023 compared to the same quarter in 2022 due primarily to higher net sales of iPad and iPad Air. (1)\n",
      "(1)\n",
      " (1)\n",
      "(1)(2)\n",
      "(3)\n",
      "®\n",
      "®\n",
      "Apple Inc. | Q1 2023 Form 10-Q | 17\n",
      "====================\n",
      "doc: examples/apple_10q_q1_23.pdf\n",
      "page: 18\n",
      "2021 Change\n",
      "Net sales by reportable segment:\n",
      "Americas $ 49,278 $ 51,496 (4)%\n",
      "Europe 27,681 29,749 (7)%\n",
      "Greater China 23,905 25,783 (7)%\n",
      "Japan 6,755 7,107 (5)%\n",
      "Rest of Asia Pacific 9,535 9,810 (3)%\n",
      "Total net sales $ 117,154 $ 123,945 (5)%\n",
      "Americas\n",
      "Americas net sales decreased during the first quarter of 2023 compared to the same quarter in 2022 due primarily to lower net sales of iPhone and Mac, partially\n",
      "offset by higher net sales of Services and iPad. The weakness of the Canadian dollar relative to the U.S. dollar had an unfavorable year-over-year impact on\n",
      "Americas net sales during the first quarter of 2023.\n",
      "Europe\n",
      "Europe net sales decrea sed during the first quarter of 2023 compared to the same quarter in 2022 due to the weakness in foreign currencies relative to the U.S.\n",
      "dollar , which contributed to lower net sales of iPhone and Mac.\n",
      "Apple Inc. | Q1 2023 Form 10-Q | 16\n",
      "====================\n",
      "doc: examples/apple_10q_q3_22.pdf\n",
      "page: 19\n",
      "Rest of Asia Pacific\n",
      "Rest of Asia Pacific net sales increased during the third quarter of 2022 compared to the third quarter of 2021 due primarily to higher net sales of iPhone and\n",
      "Services. Year-over-year  Rest of Asia Pacific net sales increased during the first nine months of 2022 due primarily to higher net sales of Services, iPhone and\n",
      "Mac. The weakness in foreign currencies relativ e to the U.S. dollar had a net unfavorable impact on Rest of Asia Pacific net sales during the third quarter and\n",
      "first nine months of 2022.\n",
      "Gross Margin\n",
      "Products and Services gross margin and gross margin percentage for the three- and nine-month periods ended June 25, 2022 and June 26, 2021 were as\n",
      "follows (dollars in millions):\n",
      "Three Months Ended Nine Months Ended\n",
      "June 25,\n",
      "2022June 26,\n",
      "2021June 25,\n",
      "2022June 26,\n",
      "2021\n",
      "Gross margin:\n",
      "Products $ 21,870 $ 23,049 $ 90,157 $ 82,833 \n",
      "Services 14,015 12,206 42,530 34,829 \n",
      "Total gross margin $ 35,885 $ 35,255 $ 132,687 $ 117,662 \n",
      "Gross margin percentage:\n",
      "Products 34.5 % 36.0 % 36.8 % 35.7 %\n",
      "Services 71.5 % 69.8 % 72.2 % 69.5 %\n",
      "Total gross margin percentage 43.3 % 43.3 % 43.6 % 41.7 %\n",
      "Products Gross Margin\n",
      "Products gross margin decreased during the third quarter of 2022 compared to the third quarter of 2021 due primarily to the weakness in foreign currencies\n",
      "relative to the U.S. dolla r. Year-over-year Products gross margin increased during the first nine months of 2022 due primarily to a different Products mix and\n",
      "higher Products volume, partially of fset by the weakness in foreign currencies relative to the U.S. dollar .\n",
      "Products gross margin percentage decreased during the third quarter of 2022 compared to the third quarter of 2021 due primarily to the weakness in foreign\n",
      "currencies relative to the U.S. dollar and a different Products mix. Year-over-year Products gross margin percentage increased during the first nine months of\n",
      "2022 due primarily to a dif ferent Products mix.\n",
      "Services Gross Margin\n",
      "Services gross margin increased during the third quarter and first nine months of 2022 compare d to the same periods in 2021 due primarily to higher Services\n",
      "net sales, partially of fset by the weakness in foreign currencies relative to the U.S. dollar .\n",
      "Services gross margin percentage increased during the third quarter and first nine months of 2022 compared to the same periods in 2021 due primarily to\n",
      "improved leverage and a dif ferent Services mix, partially of fset by the weakness in foreign currencies relative to the U.S. dollar and higher Services costs.\n",
      "The Company’ s future gross margins can be impacted by a variety of factors, as discussed in Part I, Item 1A of the 2021 Form 10-K under the heading “Risk\n",
      "Factors.” As a result, the Company believes, in general, gross margins will be subject to volatility and downward pressure.\n",
      "Apple Inc. | Q3 2022 Form 10-Q | 17\n",
      "====================\n",
      "doc: examples/apple_10q_q3_22.pdf\n",
      "page: 17\n",
      "COVID-19\n",
      "The COVID-19 pandemic has had, and continue s to have, a significant impact around the world, prompting governments and businesses to take unprecedented\n",
      "measures, such as restrictions on travel and business operations, temporary closures of busines ses, and quarantine and shelter-in-place orders. The COVID-19\n",
      "pandemic has at times significantly curtailed global economic activity and caused significant volatility and disruption in global financial markets. The COVID-19\n",
      "pandemic and the meas ures taken by many countries in response have affected and could in the future materially impact the Company’ s business, results of\n",
      "operations and financial condition.\n",
      "Certain of the Compan y’s outsourcing partners, component suppliers and logistical service providers have experienced disruptions during the COVID-19\n",
      "pandemic, resulting in supply shortages. Similar disruptions could occur in the future.\n",
      "Products and Services Performance\n",
      "The following table shows net sales by category for the three- and nine-month periods ended June 25, 2022 and June 26, 2021 (dollars in millions):\n",
      "Three Months Ended Nine Months Ended\n",
      "June 25,\n",
      "2022June 26,\n",
      "2021 ChangeJune 25,\n",
      "2022June 26,\n",
      "2021 Change\n",
      "Net sales by category:\n",
      "iPhone $ 40,665 $ 39,570 3 %$ 162,863 $ 153,105 6 %\n",
      "Mac 7,382 8,235 (10)% 28,669 26,012 10 %\n",
      "iPad 7,224 7,368 (2)% 22,118 23,610 (6)%\n",
      "Wearables, Home and Accessories 8,084 8,775 (8)% 31,591 29,582 7 %\n",
      "Services 19,604 17,486 12 % 58,941 50,148 18 %\n",
      "Total net sales $ 82,959 $ 81,434 2 %$ 304,182 $ 282,457 8 %\n",
      "(1)Products net sales include amortization of the deferred value of unspecified software upgrade rights, which are bundled in the sales price of the respective\n",
      "product.\n",
      "(2)Wearables, Home and Accessories net sales include sales of AirPods, Apple TV, Apple Watch, Beats products, HomePod mini and accessories.\n",
      "(3)Services net sales include sales from the Company’s advertising, AppleCare, cloud, digital content, payment and other services. Services net sales also include\n",
      "amortization of the deferred value of services bundled in the sales price of certain products.\n",
      "iPhone\n",
      "iPhone net sales increas ed during the third quarter and first nine months of 2022 compared to the same periods in 2021 due primarily to higher net sales from\n",
      "the Company’ s new iPhone models.\n",
      "Mac\n",
      "Mac net sales decrease d during the third quarter of 2022 compared to the third quarter of 2021 due primarily to lower net sales of MacBook Air and iMac ,\n",
      "partially offset by higher net sales of MacBook Pro. Year-over-year Mac net sales increased durin g the first nine months of 2022 due primarily to higher net sales\n",
      "of MacBook Pro, partially of fset by lower net sales of MacBook Air.\n",
      "iPad\n",
      "iPad net sales decrease d during the third quarter of 2022 compared to the third quarter of 2021  due primarily to lower net sales of iPad Pro , partially offset by\n",
      "====================\n"
     ]
    }
   ],
   "source": [
    "print(f\"Answer: {result.answer}\")\n",
    "print(\"=\"*20)\n",
    "for doc in result.source_docs:\n",
    "    print(f\"doc: {doc.metadata['source']}\")\n",
    "    print(f\"page: {doc.metadata['page']}\")\n",
    "    print(doc.page_content)\n",
    "    print(\"=\"*20)"
   ]
  },
  {
   "cell_type": "code",
   "execution_count": 44,
   "id": "e9362bcd",
   "metadata": {
    "scrolled": true
   },
   "outputs": [
    {
     "data": {
      "text/plain": [
       "Document(page_content='Note 2 – Revenue\\nNet sales disaggregated by significant products and services for the three months ended December 31, 2022 and December 25, 2021 were as follows (in\\nmillions):\\nThree Months Ended\\nDecember 31,\\n2022December 25,\\n2021\\niPhone $ 65,775 $ 71,628 \\nMac  7,735 10,852 \\niPad 9,396 7,248 \\nWearables, Home and Accessories 13,482 14,701 \\nServices 20,766 19,516 \\nTotal net sales $ 117,154 $ 123,945 \\n(1)Products net sales include amortization of the deferred value of unspecified software upgrade rights, which are bundled in the sales price of the respective\\nproduct.\\n(2)Wearables, Home and Accessories net sales include sales of AirPods, Apple TV, Apple Watch, Beats products, HomePod mini and accessories.\\n(3)Services net sales include sales from the Company’s advertising, AppleCare, cloud, digital content, payment and other services. Services net sales also include\\namortization of the deferred value of services bundled in the sales price of certain products.\\n(4)Includes $3.4 billion of revenue recognized in the three months ended December 31, 2022 that was included in deferred revenue as of September 24, 2022 and\\n$3.0 billion of revenue recognized in the three months ended December 25, 2021 that was included in deferred revenue as of September 25, 2021.\\nThe Company’ s proportion of net sales by disagg regated revenue source was generally consiste nt for each reportable segment in Note 9, “Segment Information\\nand Geograp hic Data” for the three months ende d December 31, 2022 and December 25, 2021,  except in Greater China, where iPhone revenue represented a\\nmoderately higher proportion of net sales.\\nAs of Decem ber 31, 2022 and September 24, 2022, the Company had total deferred revenue of $12.6 billion and $12.4 billion, respectively . As of December 31,\\n2022, the Company expects 63% of total deferre d revenue to be realized in less than a year, 27% within one-to-two years, 8% within two-to-three years and 2%\\nin greater than three years.® (1)\\n®(1)\\n® (1)\\n(1)(2)\\n(3)\\n(4)\\n® ® ® ® ®\\n®\\nApple Inc. | Q1 2023 Form 10-Q | 7', metadata={'source': 'examples/apple_10q_q1_23.pdf', 'page': 9})"
      ]
     },
     "execution_count": 44,
     "metadata": {},
     "output_type": "execute_result"
    }
   ],
   "source": [
    "result.source_docs[0]"
   ]
  },
  {
   "cell_type": "code",
   "execution_count": 73,
   "id": "6fa81481",
   "metadata": {
    "scrolled": true
   },
   "outputs": [
    {
     "data": {
      "text/plain": [
       "1630"
      ]
     },
     "execution_count": 73,
     "metadata": {},
     "output_type": "execute_result"
    }
   ],
   "source": [
    "len(result.context.split())"
   ]
  },
  {
   "cell_type": "markdown",
   "id": "d24e0e70",
   "metadata": {},
   "source": [
    "### Testing out Raw Search"
   ]
  },
  {
   "cell_type": "code",
   "execution_count": 2,
   "id": "7d304568",
   "metadata": {},
   "outputs": [],
   "source": [
    "from langchain.agents import load_tools\n",
    "from langchain.agents import initialize_agent\n",
    "from langchain.chat_models import ChatOpenAI"
   ]
  },
  {
   "cell_type": "code",
   "execution_count": 3,
   "id": "ec96d2f3",
   "metadata": {},
   "outputs": [],
   "source": [
    "import os"
   ]
  },
  {
   "cell_type": "code",
   "execution_count": 5,
   "id": "db7a0b2d",
   "metadata": {},
   "outputs": [],
   "source": [
    "llm = ChatOpenAI(temperature=0)\n",
    "tools = load_tools([\"serpapi\"], llm=llm)"
   ]
  },
  {
   "cell_type": "code",
   "execution_count": 6,
   "id": "4485c393",
   "metadata": {},
   "outputs": [],
   "source": [
    "agent = initialize_agent(tools, llm, agent=\"zero-shot-react-description\", verbose=True)"
   ]
  },
  {
   "cell_type": "code",
   "execution_count": 7,
   "id": "c4139a67",
   "metadata": {},
   "outputs": [
    {
     "name": "stdout",
     "output_type": "stream",
     "text": [
      "\n",
      "\n",
      "\u001b[1m> Entering new AgentExecutor chain...\u001b[0m\n",
      "\u001b[32;1m\u001b[1;3mI need to search for the latest financial reports from Apple.\n",
      "Action: Search\n",
      "Action Input: \"Apple financial report 2022\"\u001b[0m\n",
      "Observation: \u001b[36;1m\u001b[1;3mFY 23 First Quarter Results. Apple announced results for the quarter ended December 31, 2022. ... Quarterly Earnings Reports. 2023 2022 2021\u001b[0m\n",
      "Thought:\u001b[32;1m\u001b[1;3mI need to find the specific report that includes Apple's total revenue for 2022.\n",
      "Action: Search\n",
      "Action Input: \"Apple financial report 2022 total revenue\"\u001b[0m\n",
      "Observation: \u001b[36;1m\u001b[1;3mApple generated almost a hundred billion dollars in profits in 2022, compared to $94.6 billion in 2021 and over $57 billion in 2020.\u001b[0m\n",
      "Thought:\u001b[32;1m\u001b[1;3mI have found the answer to the original question.\n",
      "Final Answer: Apple's total revenue for 2022 was almost a hundred billion dollars.\u001b[0m\n",
      "\n",
      "\u001b[1m> Finished chain.\u001b[0m\n"
     ]
    },
    {
     "data": {
      "text/plain": [
       "\"Apple's total revenue for 2022 was almost a hundred billion dollars.\""
      ]
     },
     "execution_count": 7,
     "metadata": {},
     "output_type": "execute_result"
    }
   ],
   "source": [
    "agent.run(\"What was apple's total revenue for 2022?\")"
   ]
  },
  {
   "cell_type": "code",
   "execution_count": 9,
   "id": "dbcbd2cb",
   "metadata": {},
   "outputs": [
    {
     "name": "stdout",
     "output_type": "stream",
     "text": [
      "\n",
      "\n",
      "\u001b[1m> Entering new AgentExecutor chain...\u001b[0m\n",
      "\u001b[32;1m\u001b[1;3mI need to find out the current financial status of US companies\n",
      "Action: Search\n",
      "Action Input: \"top earning US companies 2021\"\u001b[0m\n",
      "Observation: \u001b[36;1m\u001b[1;3mThe Top 10\u001b[0m\n",
      "Thought:\u001b[32;1m\u001b[1;3mI need to narrow down the search to find the specific company\n",
      "Action: Search\n",
      "Action Input: \"highest earning US company 2021\"\u001b[0m\n",
      "Observation: \u001b[36;1m\u001b[1;3mThe Top 10 · 1. Walmart · 2. Amazon · 3. Apple · 4. CVS Health · 5. UnitedHealth Group · 6. ExxonMobil · 7. Berkshire Hathaway · 8. Alphabet.\u001b[0m\n",
      "Thought:\u001b[32;1m\u001b[1;3mI need to find out which of these companies made the most money\n",
      "Action: Search\n",
      "Action Input: \"revenue of top earning US companies 2021\"\u001b[0m\n",
      "Observation: \u001b[36;1m\u001b[1;3mNo good search result found\u001b[0m\n",
      "Thought:\u001b[32;1m\u001b[1;3mI should try searching for \"financial reports of top earning US companies 2021\"\n",
      "Action: Search\n",
      "Action Input: \"financial reports of top earning US companies 2021\"\u001b[0m\n",
      "Observation: \u001b[36;1m\u001b[1;3mAll of our iconic lists and rankings, including the Fortune 500 · Full access to our market-moving business journalism · Exclusive quarterly investment guides.\u001b[0m\n",
      "Thought:\u001b[32;1m\u001b[1;3mI can use the Fortune 500 list to find the answer\n",
      "Action: Search\n",
      "Action Input: \"Fortune 500 list 2021\"\u001b[0m\n",
      "Observation: \u001b[36;1m\u001b[1;3mAll of our iconic lists and rankings, including the Fortune 500 · Full access to our market-moving business journalism · Exclusive quarterly investment guides.\u001b[0m\n",
      "Thought:\u001b[32;1m\u001b[1;3mI need to find the specific company on the Fortune 500 list\n",
      "Action: Search\n",
      "Action Input: \"highest earning company on Fortune 500 list 2021\"\u001b[0m\n",
      "Observation: \u001b[36;1m\u001b[1;3mThe Top 10\u001b[0m\n",
      "Thought:\u001b[32;1m\u001b[1;3mI should look at the revenue of the top company on the Fortune 500 list to find the answer\n",
      "Action: Search\n",
      "Action Input: \"revenue of top company on Fortune 500 list 2021\"\u001b[0m\n",
      "Observation: \u001b[36;1m\u001b[1;3mTogether, the 500 corporations on this year's list generated a record $16.1 trillion in revenue and $1.8 trillion in profits. Explore the list to see which ...\u001b[0m\n",
      "Thought:\u001b[32;1m\u001b[1;3mI now know the final answer\n",
      "Final Answer: The top earning US company in 2021 is Walmart, according to the Fortune 500 list.\u001b[0m\n",
      "\n",
      "\u001b[1m> Finished chain.\u001b[0m\n"
     ]
    },
    {
     "data": {
      "text/plain": [
       "'The top earning US company in 2021 is Walmart, according to the Fortune 500 list.'"
      ]
     },
     "execution_count": 9,
     "metadata": {},
     "output_type": "execute_result"
    }
   ],
   "source": [
    "agent.run(\"which US company made the most money in 2021?\")"
   ]
  },
  {
   "cell_type": "code",
   "execution_count": null,
   "id": "9bbce510",
   "metadata": {},
   "outputs": [],
   "source": []
  }
 ],
 "metadata": {
  "kernelspec": {
   "display_name": "Python 3",
   "language": "python",
   "name": "python3"
  },
  "language_info": {
   "codemirror_mode": {
    "name": "ipython",
    "version": 3
   },
   "file_extension": ".py",
   "mimetype": "text/x-python",
   "name": "python",
   "nbconvert_exporter": "python",
   "pygments_lexer": "ipython3",
   "version": "3.8.8"
  }
 },
 "nbformat": 4,
 "nbformat_minor": 5
}
